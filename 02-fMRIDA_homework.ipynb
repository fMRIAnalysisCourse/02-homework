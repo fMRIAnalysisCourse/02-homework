{
 "cells": [
  {
   "cell_type": "markdown",
   "metadata": {},
   "source": [
    "# Fundamentals of fMRI data analysis \n",
    "## fMRI data manipulation and plotting in Python"
   ]
  },
  {
   "cell_type": "markdown",
   "metadata": {},
   "source": [
    "In this assignment, your task is to complete a few exercises related to data manipulation and plotting in Python.\n",
    "\n",
    "You can choose to answer in Polish or English (this will not affect your grade).\n",
    "\n",
    "--------------------\n"
   ]
  },
  {
   "cell_type": "markdown",
   "metadata": {},
   "source": [
    "**1. Find a one scientific article reporting fMRI findings (search via google Scholar, PubMed). In a paragraph describing fMRI data acquisition, find details about MRI/fMRI scanning parameters such as TR, voxel size, slice thickness, field of view, matrix size, and number of volumes. Fill the information below:**"
   ]
  },
  {
   "cell_type": "markdown",
   "metadata": {},
   "source": [
    "Article (Authors, year, title, journal): ...\n",
    "\n",
    "\n",
    "*Structural scan (T1):*\n",
    "\n",
    "- voxel size = ...\n",
    "- slice thicknes = ...\n",
    "- FOV = ...\n",
    "- matrix size = ...\n",
    "\n",
    "*Functional scan (T2*):*\n",
    "- TR = ...\n",
    "- voxel size = ... \n",
    "- slice thicknes = ...\n",
    "- FOV = ...\n",
    "- matrix size = ... \n",
    "- number of volumes = ... "
   ]
  },
  {
   "cell_type": "markdown",
   "metadata": {},
   "source": [
    "**2. Find a portrait photo (.jpg) of your favourite TV series or movie character (head and shoulders) and complete exercises.**\n",
    "\n",
    "- Crop a photo using online tool (https://www.iloveimg.com/crop-image) to size 400 x 400 (face has to be in the center of image)\n",
    "- Manipulate the image in python (fill code below)"
   ]
  },
  {
   "cell_type": "code",
   "execution_count": null,
   "metadata": {},
   "outputs": [],
   "source": [
    "# Load libraries\n",
    "\n"
   ]
  },
  {
   "cell_type": "code",
   "execution_count": 21,
   "metadata": {},
   "outputs": [],
   "source": [
    "# Load the image \n",
    "\n",
    "\n",
    "# Print shape and type of the image\n",
    "\n"
   ]
  },
  {
   "cell_type": "code",
   "execution_count": null,
   "metadata": {},
   "outputs": [],
   "source": [
    "# Create a new variable containing only the first (RED) channel of image (e.g. new_image = image[:,:,0])\n",
    "\n",
    "\n",
    "# Plot the new image using plt.imshow with changed cmap and colorbar\n",
    "\n"
   ]
  },
  {
   "cell_type": "code",
   "execution_count": 3,
   "metadata": {},
   "outputs": [],
   "source": [
    "# Save the new image as numpy array (use np.save())\n",
    "\n"
   ]
  },
  {
   "cell_type": "markdown",
   "metadata": {},
   "source": [
    "Example solution: \n",
    "\n",
    "<img style=\"float: left\" img src=\"images/screenshot_solution.png\" width=\"300\" >\n"
   ]
  },
  {
   "cell_type": "markdown",
   "metadata": {},
   "source": [
    "**3. Load structural (T1) MRI image in python and select a one sagittal brain section that nicely presents the hippocampus.**"
   ]
  },
  {
   "cell_type": "code",
   "execution_count": null,
   "metadata": {},
   "outputs": [],
   "source": [
    "# Load libraries\n",
    "\n"
   ]
  },
  {
   "cell_type": "code",
   "execution_count": 27,
   "metadata": {},
   "outputs": [],
   "source": [
    "# Load MRI image in python (.nii file in \"data\" folder with \"t1\" in filename)\n",
    "\n",
    "\n",
    "# Print shape and type of the image\n",
    "\n"
   ]
  },
  {
   "cell_type": "code",
   "execution_count": 2,
   "metadata": {},
   "outputs": [],
   "source": [
    "# Plot sagittal section of the MRI image presenting the hippocampus\n",
    "\n"
   ]
  },
  {
   "cell_type": "markdown",
   "metadata": {},
   "source": [
    "**4. Load functional MRI (fMRI) image in python and select a one sagittal brain section that nicely presents the hippocampus.**"
   ]
  },
  {
   "cell_type": "code",
   "execution_count": 8,
   "metadata": {},
   "outputs": [],
   "source": [
    "# Load fMRI image in python (.nii file in \"data\" folder with \"bold\" in filename)\n",
    "\n",
    "\n",
    "# Print shape and type of fMRI image\n",
    "\n"
   ]
  },
  {
   "cell_type": "code",
   "execution_count": 7,
   "metadata": {},
   "outputs": [],
   "source": [
    "# convert nibabel data structure to numpy array \n",
    "\n",
    "\n",
    "# create two variables (voxel_1, voxel_2) that store BOLD timeseries from two selected voxels. \n",
    "# Try to select voxels that lie very close to each other in space.\n",
    "\n"
   ]
  },
  {
   "cell_type": "code",
   "execution_count": null,
   "metadata": {},
   "outputs": [],
   "source": [
    "# plot timeseries from one voxel on one plot\n",
    "\n"
   ]
  },
  {
   "cell_type": "code",
   "execution_count": null,
   "metadata": {},
   "outputs": [],
   "source": [
    "# plot the relationship between two voxels (use scatterplot). Do you have some observations?\n",
    "\n"
   ]
  },
  {
   "cell_type": "markdown",
   "metadata": {},
   "source": [
    "**5*. (optional; for magical points) Use MRI data to create a visualization for a new logo of our \"Fundamentals fMRI analysis\" course GitHub page (https://github.com/fMRIAnalysisCourse)."
   ]
  },
  {
   "cell_type": "code",
   "execution_count": 24,
   "metadata": {},
   "outputs": [],
   "source": [
    "# Optional code\n",
    "\n"
   ]
  }
 ],
 "metadata": {
  "kernelspec": {
   "display_name": "Python 3",
   "language": "python",
   "name": "python3"
  },
  "language_info": {
   "codemirror_mode": {
    "name": "ipython",
    "version": 3
   },
   "file_extension": ".py",
   "mimetype": "text/x-python",
   "name": "python",
   "nbconvert_exporter": "python",
   "pygments_lexer": "ipython3",
   "version": "3.8.3"
  }
 },
 "nbformat": 4,
 "nbformat_minor": 4
}
